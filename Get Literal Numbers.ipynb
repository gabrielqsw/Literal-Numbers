{
 "cells": [
  {
   "cell_type": "code",
   "execution_count": 4,
   "id": "fd842abe",
   "metadata": {},
   "outputs": [],
   "source": [
    "def get_limited_input(prompt, limit):\n",
    "    while True:\n",
    "        user_input = input(prompt)\n",
    "        if len(user_input) <= limit:\n",
    "            flag = 1\n",
    "            try:\n",
    "                int(user_input)\n",
    "                flag = 1\n",
    "            except ValueError:\n",
    "                flag = 0\n",
    "            if flag == 1:\n",
    "                False\n",
    "                return user_input\n",
    "            else:\n",
    "                print(\"El valor ingresado debe ser un entero positivo.\")\n",
    "        else:\n",
    "            print(f\"El valor ingresado debe ser de {limit} caracteres or menos. Intente nuevamente.\")"
   ]
  },
  {
   "cell_type": "code",
   "execution_count": 5,
   "id": "208977c6",
   "metadata": {},
   "outputs": [],
   "source": [
    "x = '21'\n",
    "def three_num_group(x):\n",
    "    x = str(x)\n",
    "    lit = ''\n",
    "    x = x.zfill(3)\n",
    "    numero = [str(i) for i in range(10)]\n",
    "    unidad = ['', 'un', 'dos', 'tres', 'cuatro', 'cinco', 'seis', 'siete', 'ocho', 'nueve']\n",
    "    decena = ['', 'dieci', 'veinti', 'treinta', 'cuarenta', 'cincuenta', 'sesenta', 'setenta', 'ochenta', 'noventa']\n",
    "    centena = ['', 'ciento', 'doscientos', 'trescientos', 'cuatrocientos', 'quinientos',\n",
    "               'seiscientos', 'setecientos', 'ochocientos', 'novecientos']\n",
    "    if x == '000':\n",
    "        lit = ''\n",
    "    elif x == '100':\n",
    "        lit = 'cien'\n",
    "    else:\n",
    "        index = numero.index(x[0]) \n",
    "        lit += centena[index] + ' ' if x[0] != '0' else ''\n",
    "        index = numero.index(x[1])\n",
    "        if x[1] != '1' and x[1] != '2':\n",
    "            lit += decena[index] + ' y ' if x[1] != '0' else decena[index]\n",
    "        elif x[1] == '2':\n",
    "            lit += 'veinti' if x[2] != '0' else 'veinte'\n",
    "        elif x[1] == '1':\n",
    "            if x[2] == '0':\n",
    "                lit += 'diez'\n",
    "            elif x[2] == '1':\n",
    "                lit += 'once'\n",
    "            elif x[2] == '2':\n",
    "                lit += 'doce'\n",
    "            elif x[2] == '3':\n",
    "                lit += 'trece'\n",
    "            elif x[2] == '4':\n",
    "                lit += 'catorce'\n",
    "            elif x[2] == '5':\n",
    "                lit += 'quince'\n",
    "            else:\n",
    "                index = numero.index(x[2])\n",
    "                lit += 'dieci' + unidad[index]\n",
    "        index = numero.index(x[2])\n",
    "        lit += unidad[index] if x[1] != '1' else ''\n",
    "    return lit"
   ]
  },
  {
   "cell_type": "code",
   "execution_count": 6,
   "id": "0f4d2cd8",
   "metadata": {},
   "outputs": [],
   "source": [
    "def literal_numbers():\n",
    "    num_str = get_limited_input('Ingresa un numero entero positivo: ', 21)\n",
    "    if len(num_str)%3 != 0:\n",
    "        filled_num = (len(num_str) // 3 + 1) * 3\n",
    "        num_str = num_str.zfill(filled_num)\n",
    "        num_str\n",
    "\n",
    "    group_000 = []\n",
    "    values = [['', ''], ['mil', 'mil'], ['millon', 'millones'], \n",
    "              ['mil', 'mil'], ['billon', 'billones'], ['mil', 'mil'], ['trillon', 'trillones']]\n",
    "    literal = 'cero' if int(num_str) == 0 else ''\n",
    "    for i in range(0, len(num_str), 3):\n",
    "        group_000.append(num_str[i:i+3])\n",
    "\n",
    "    for j in range(len(group_000)):\n",
    "        if group_000[j] == '000' and group_000[j - 1] != '000':\n",
    "            literal += values[len(group_000)- 1 - j][1] + ' ' if values[len(group_000)- 1 - j][1] != 'mil' else ''\n",
    "        elif group_000[j] == '000' and group_000[j - 1] == '000':\n",
    "            pass\n",
    "        elif group_000[j] == '001':\n",
    "            literal += three_num_group(group_000[j]) + ' ' + values[len(group_000)- 1 - j][0] + ' '\n",
    "        else:\n",
    "            literal += three_num_group(group_000[j]) + ' ' + values[len(group_000)- 1 - j][1] + ' '\n",
    "    literal = literal.strip()\n",
    "    literal += 'o' if num_str[-1] == '1' else ''\n",
    "    return literal"
   ]
  },
  {
   "cell_type": "code",
   "execution_count": 7,
   "id": "862c7d25",
   "metadata": {},
   "outputs": [
    {
     "name": "stdout",
     "output_type": "stream",
     "text": [
      "Ingresa un numero entero positivo: 22\n"
     ]
    },
    {
     "data": {
      "text/plain": [
       "'veintidos'"
      ]
     },
     "execution_count": 7,
     "metadata": {},
     "output_type": "execute_result"
    }
   ],
   "source": [
    "literal_numbers()"
   ]
  }
 ],
 "metadata": {
  "kernelspec": {
   "display_name": "Python 3 (ipykernel)",
   "language": "python",
   "name": "python3"
  },
  "language_info": {
   "codemirror_mode": {
    "name": "ipython",
    "version": 3
   },
   "file_extension": ".py",
   "mimetype": "text/x-python",
   "name": "python",
   "nbconvert_exporter": "python",
   "pygments_lexer": "ipython3",
   "version": "3.10.9"
  }
 },
 "nbformat": 4,
 "nbformat_minor": 5
}
